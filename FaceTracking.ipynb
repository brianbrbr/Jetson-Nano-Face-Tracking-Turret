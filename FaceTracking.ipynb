{
 "cells": [
  {
   "cell_type": "markdown",
   "metadata": {},
   "source": [
    "# Import Library"
   ]
  },
  {
   "cell_type": "code",
   "execution_count": 1,
   "metadata": {},
   "outputs": [],
   "source": [
    "from __future__ import print_function\n",
    "from imutils.video import VideoStream\n",
    "import cv2\n",
    "import numpy as np\n",
    "from adafruit_servokit import ServoKit\n",
    "import time\n",
    "import os\n",
    "import RPi.GPIO as GPIO\n",
    "import imutils"
   ]
  },
  {
   "cell_type": "markdown",
   "metadata": {},
   "source": [
    "# Set up servo & led"
   ]
  },
  {
   "cell_type": "code",
   "execution_count": 2,
   "metadata": {},
   "outputs": [],
   "source": [
    "GPIO.cleanup()"
   ]
  },
  {
   "cell_type": "code",
   "execution_count": 3,
   "metadata": {},
   "outputs": [],
   "source": [
    "kit=ServoKit(channels=16)\n",
    "# LED initial\n",
    "redLed = 17\n",
    "GPIO.setwarnings(False)\n",
    "GPIO.setmode(GPIO.BCM)\n",
    "GPIO.setup(redLed, GPIO.OUT)\n",
    "# close led\n",
    "GPIO.output(redLed, GPIO.LOW)\n",
    "ledOn = False"
   ]
  },
  {
   "cell_type": "code",
   "execution_count": 4,
   "metadata": {},
   "outputs": [],
   "source": [
    "pan =  90\n",
    "tilt = 90\n",
    "# set servo initial\n",
    "kit.servo[0].angle=pan\n",
    "kit.servo[1].angle=tilt"
   ]
  },
  {
   "cell_type": "markdown",
   "metadata": {},
   "source": [
    "# Threading operation management & Debug threading workwell"
   ]
  },
  {
   "cell_type": "code",
   "execution_count": 5,
   "metadata": {},
   "outputs": [],
   "source": [
    "import threading \n",
    "import ctypes\n",
    "import inspect\n",
    "\n",
    "# set the end code\n",
    "def _async_raise(tid, exctype):\n",
    "    tid = ctypes.c_long(tid)\n",
    "    if not inspect.isclass(exctype):\n",
    "        exctype = type(exctype)\n",
    "    res = ctypes.pythonapi.PyThreadState_SetAsyncExc(tid, ctypes.py_object(exctype))\n",
    "    if res == 0:\n",
    "        raise ValueError(\"invalid thread id\")\n",
    "    elif res != 1:\n",
    "        ctypes.pythonapi.PyThreadState_SetAsyncExc(tid, None)\n",
    "        raise SystemError(\"PyThreadState_SetAsyncExc failed\")\n",
    "        \n",
    "def stop_thread(thread):\n",
    "    _async_raise(thread.ident, SystemExit)"
   ]
  },
  {
   "cell_type": "markdown",
   "metadata": {},
   "source": [
    "# Set up CSI Camera"
   ]
  },
  {
   "cell_type": "code",
   "execution_count": 6,
   "metadata": {},
   "outputs": [
    {
     "data": {
      "application/vnd.jupyter.widget-view+json": {
       "model_id": "f054e8708ea242cda8172ab4c6e31763",
       "version_major": 2,
       "version_minor": 0
      },
      "text/plain": [
       "Image(value=b'', format='jpeg', height='240', width='320')"
      ]
     },
     "metadata": {},
     "output_type": "display_data"
    }
   ],
   "source": [
    "from jetcam.utils import bgr8_to_jpeg\n",
    "import traitlets\n",
    "import ipywidgets.widgets as widgets\n",
    "from IPython.display import display\n",
    "\n",
    "frame_img = widgets.Image(format='jpeg', width=320, height=240)\n",
    "display(frame_img)"
   ]
  },
  {
   "cell_type": "code",
   "execution_count": 7,
   "metadata": {},
   "outputs": [
    {
     "name": "stdout",
     "output_type": "stream",
     "text": [
      "width: 320.0 height: 240.0\n"
     ]
    }
   ],
   "source": [
    "dispW=320\n",
    "dispH=240\n",
    "flip=4\n",
    "camSet='nvarguscamerasrc !  video/x-raw(memory:NVMM), width=3264, height=2464, format=NV12, framerate=21/1 ! nvvidconv flip-method='+str(flip)+' ! video/x-raw, width='+str(dispW)+', height='+str(dispH)+', format=BGRx ! videoconvert ! video/x-raw, format=BGR ! appsink'\n",
    "cam= cv2.VideoCapture(camSet)\n",
    "\n",
    "width=cam.get(cv2.CAP_PROP_FRAME_WIDTH)\n",
    "height=cam.get(cv2.CAP_PROP_FRAME_HEIGHT)\n",
    "print('width:',width,'height:',height)"
   ]
  },
  {
   "cell_type": "markdown",
   "metadata": {},
   "source": [
    "# Import face & eyes detect model"
   ]
  },
  {
   "cell_type": "code",
   "execution_count": 8,
   "metadata": {},
   "outputs": [],
   "source": [
    "face_cascade = cv2.CascadeClassifier('./images/haarcascade_frontalface_default.xml')\n",
    "eye_cascade = cv2.CascadeClassifier('./images/haarcascade_eye.xml')"
   ]
  },
  {
   "cell_type": "markdown",
   "metadata": {},
   "source": [
    "# Set up face tracking code & Tunning PID"
   ]
  },
  {
   "cell_type": "code",
   "execution_count": 9,
   "metadata": {},
   "outputs": [],
   "source": [
    "def Video_display():\n",
    "    global pan\n",
    "    global tilt\n",
    "    global ledOn\n",
    "    while True: \n",
    "        ret,frame = cam.read()\n",
    "        gray = cv2.cvtColor(frame,cv2.COLOR_BGR2GRAY)\n",
    "        faces = face_cascade.detectMultiScale(gray,1.3,5)\n",
    "\n",
    "        for(x,y,w,h) in faces:\n",
    "            # draw face rectangular\n",
    "            cv2.rectangle(frame,(x,y),(x+w,y+h),(0,0,255),2)\n",
    "            # middle of face rectangular\n",
    "            Xcent = x + w/2\n",
    "            Ycent = y + h/2\n",
    "            errorPan  = Xcent - dispW/2  # if face middle at gragh right side => errorPan = positive, otherwise negative\n",
    "            errorTilt = Ycent - dispH/2  # if face middle at gragh down side => errorPan = positive, otherwise negative\n",
    "            # if errorPan > 15 pixel the servo will be adjust, limit frequency to adjust servo which make servo burn\n",
    "            if abs(errorPan)>15:\n",
    "                pan=pan-errorPan/50 # 50 is hyperparameter, if the value is big => servo move fast, otherwise slow\n",
    "            if abs(errorTilt)>15:\n",
    "                tilt=tilt-errorTilt/50\n",
    "            # set the servo at 0~180\n",
    "            if pan > 180:\n",
    "                pan = 180\n",
    "                print(\"Pan out of Range\")\n",
    "            if pan < 0:\n",
    "                pan = 0\n",
    "                print(\"pan Out of Range\")\n",
    "            if tilt > 180:\n",
    "                tilt = 180\n",
    "                print(\"Pan out of Range\")\n",
    "            if tilt < 0:\n",
    "                tilt = 0\n",
    "                print(\"pan Out of Range\")\n",
    "            # adjust servo\n",
    "            kit.servo[0].angle=180-pan\n",
    "            kit.servo[1].angle=tilt\n",
    "            \n",
    "            # detect eyes\n",
    "            roi_gray = gray[y:y+h, x:x+w]\n",
    "            roi_color = frame[y:y+h, x:x+w]        \n",
    "            eyes = eye_cascade.detectMultiScale(roi_gray)\n",
    "            for (ex,ey,ew,eh) in eyes:\n",
    "                cv2.rectangle(roi_color,(ex,ey),(ex+ew,ey+eh),(0,255,0),2) \n",
    "                \n",
    "            # when eye detect => led on\n",
    "            if len(eyes) > 0:\n",
    "                if not ledOn:\n",
    "                    GPIO.output(redLed, GPIO.HIGH)\n",
    "                    ledOn = True\n",
    "            #else:\n",
    "            elif ledOn:\n",
    "                GPIO.output(redLed, GPIO.LOW)\n",
    "                ledOn = False\n",
    "        frame_img.value = bgr8_to_jpeg(frame)\n",
    "    cap.release()"
   ]
  },
  {
   "cell_type": "markdown",
   "metadata": {},
   "source": [
    "# Start the code"
   ]
  },
  {
   "cell_type": "code",
   "execution_count": 10,
   "metadata": {},
   "outputs": [],
   "source": [
    "t = threading.Thread(target=Video_display)\n",
    "t.setDaemon(True)\n",
    "t.start()"
   ]
  },
  {
   "cell_type": "markdown",
   "metadata": {},
   "source": [
    "# Terminate program & Release resource"
   ]
  },
  {
   "cell_type": "code",
   "execution_count": 11,
   "metadata": {},
   "outputs": [],
   "source": [
    "# quit program\n",
    "stop_thread(t)\n",
    "GPIO.cleanup()"
   ]
  },
  {
   "cell_type": "code",
   "execution_count": null,
   "metadata": {},
   "outputs": [],
   "source": []
  }
 ],
 "metadata": {
  "kernelspec": {
   "display_name": "Python 3",
   "language": "python",
   "name": "python3"
  },
  "language_info": {
   "codemirror_mode": {
    "name": "ipython",
    "version": 3
   },
   "file_extension": ".py",
   "mimetype": "text/x-python",
   "name": "python",
   "nbconvert_exporter": "python",
   "pygments_lexer": "ipython3",
   "version": "3.6.9"
  }
 },
 "nbformat": 4,
 "nbformat_minor": 5
}
